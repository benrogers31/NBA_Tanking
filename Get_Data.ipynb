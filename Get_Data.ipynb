{
 "cells": [
  {
   "cell_type": "code",
   "execution_count": 8,
   "metadata": {},
   "outputs": [],
   "source": [
    "import pandas as pd\n",
    "from bs4 import BeautifulSoup as soup\n",
    "from urllib.request import urlopen as uReq \n",
    "import re"
   ]
  },
  {
   "cell_type": "code",
   "execution_count": 9,
   "metadata": {},
   "outputs": [],
   "source": [
    "#here is a list of teams current teams \n",
    "teams = ['ATL', 'BOS', 'BRK', 'CHO', 'CHI', 'CLE', 'DAL', 'DEN', 'HOU',\n",
    "         'DET', 'GSW', 'IND', 'LAC', 'LAL', 'MEM', 'MIA', 'MIL', 'MIN',\n",
    "         'NOP', 'NYK', 'OKC', 'ORL', 'PHI', 'PHO', 'POR', 'SAC', 'SAS',\n",
    "         'TOR', 'UTA', 'WAS'\n",
    "        ]"
   ]
  },
  {
   "cell_type": "code",
   "execution_count": 24,
   "metadata": {},
   "outputs": [
    {
     "name": "stdout",
     "output_type": "stream",
     "text": [
      "this is wins: 51 this is losses: 31\n"
     ]
    }
   ],
   "source": [
    "def extract_record(team,year):\n",
    "    #get the page data \n",
    "    page_url = 'http://www.basketball-reference.com/teams/' + team + '/' + str(year) + '.html'\n",
    "    uClient = uReq(page_url)\n",
    "    Team_Page_Soup = soup(uClient.read(), \"html.parser\")\n",
    "    uClient.close()\n",
    "\n",
    "    #this stores in record string [wins]-[losses]\n",
    "    record_paragraph = Team_Page_Soup.findAll(\"div\",{\"data-template\":\"Partials/Teams/Summary\"})[0].find('p').get_text()\n",
    "    record_str = record_paragraph.partition(\":\")[2].split(',')[0].strip()\n",
    "    #sotring them in variables \n",
    "    wins = record_str.split(\"-\")[0]\n",
    "    losses = record_str.split(\"-\")[1]\n",
    "            \n",
    "    return (wins,loses)\n",
    "\n",
    "\n",
    "    \n",
    "    "
   ]
  },
  {
   "cell_type": "code",
   "execution_count": null,
   "metadata": {},
   "outputs": [],
   "source": []
  }
 ],
 "metadata": {
  "kernelspec": {
   "display_name": "Python 3",
   "language": "python",
   "name": "python3"
  },
  "language_info": {
   "codemirror_mode": {
    "name": "ipython",
    "version": 3
   },
   "file_extension": ".py",
   "mimetype": "text/x-python",
   "name": "python",
   "nbconvert_exporter": "python",
   "pygments_lexer": "ipython3",
   "version": "3.7.4"
  }
 },
 "nbformat": 4,
 "nbformat_minor": 2
}
